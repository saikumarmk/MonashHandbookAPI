{
 "cells": [
  {
   "cell_type": "markdown",
   "metadata": {},
   "source": [
    "## Monash Handbook and Prequisites Documentation Project\n",
    "\n",
    "\n"
   ]
  },
  {
   "cell_type": "markdown",
   "metadata": {},
   "source": [
    "### Determining prerequisites\n",
    "\n",
    "I've written a script to scrape prerequisites from `https://mscv.apps.monash.edu` which validates a course map. Since it gives us prerequisites if we're missing them, we can simply submit up to 125 of those requests in a go. That being said, \n",
    "we still need a way to determine corequisites and prohibitions:\n",
    "- As far as prohibitions are concerned, we can scrape from the handbook, then do a simple [A-Z]^3[0-9]^4 regex check on the prohibitions section. The API will return all the prohibited units.\n",
    "- Corequisites are more tricky, however we should be able to make simplifications to our process. For instance, we can regex check the coreq section and then not include them on second pass for units that have a corequisite.\n",
    "\n",
    "We now explore the data source. It takes 13.29 seconds on my PC to run this:"
   ]
  },
  {
   "cell_type": "code",
   "execution_count": 6,
   "metadata": {},
   "outputs": [
    {
     "name": "stdout",
     "output_type": "stream",
     "text": [
      "13.293525218963623\n"
     ]
    }
   ],
   "source": [
    "!python src/get_all_prereqs.py"
   ]
  },
  {
   "cell_type": "markdown",
   "metadata": {},
   "source": [
    "Yields a file named `unit_reqs_clean.json`."
   ]
  },
  {
   "cell_type": "code",
   "execution_count": 7,
   "metadata": {},
   "outputs": [],
   "source": [
    "import json"
   ]
  },
  {
   "cell_type": "code",
   "execution_count": 8,
   "metadata": {},
   "outputs": [],
   "source": [
    "with open(\"unit_reqs_clean.json\", \"r\") as file:\n",
    "    unit_reqs = json.load(file)"
   ]
  },
  {
   "cell_type": "code",
   "execution_count": 10,
   "metadata": {},
   "outputs": [
    {
     "data": {
      "text/plain": [
       "[{'title': 'Not enough passed credit points',\n",
       "  'description': 'You must pass 90 more credit points before you can enrol into this unit.'},\n",
       " {'title': 'Have not passed enough units',\n",
       "  'description': 'Please enrol in 2 of these units: FIT1001 or FIT1005'},\n",
       " {'title': 'Have not passed enough units',\n",
       "  'description': 'Please enrol in 1 of these units: FIT1040'},\n",
       " {'title': 'Have not passed enough units',\n",
       "  'description': 'Please enrol in 1 of these units: FIT1008, FIT1035, FIT2034, FIT2071, FIT2076, FIT2081 or FIT2104'},\n",
       " {'title': 'Have not passed enough units',\n",
       "  'description': 'Please enrol in 1 of these units: FIT1004 or FIT2094'},\n",
       " {'title': 'Have not passed enough units',\n",
       "  'description': 'Please enrol in 2 of these units: FIT2001 or FIT2002'},\n",
       " {'title': 'Have not passed enough units',\n",
       "  'description': 'Please enrol in 1 of these units: FIT1003, FIT1049 or FIT2003'}]"
      ]
     },
     "execution_count": 10,
     "metadata": {},
     "output_type": "execute_result"
    }
   ],
   "source": [
    "unit_reqs[\"FIT3047\"]"
   ]
  },
  {
   "cell_type": "code",
   "execution_count": null,
   "metadata": {},
   "outputs": [],
   "source": []
  }
 ],
 "metadata": {
  "kernelspec": {
   "display_name": "Python 3.10.1 64-bit",
   "language": "python",
   "name": "python3"
  },
  "language_info": {
   "codemirror_mode": {
    "name": "ipython",
    "version": 3
   },
   "file_extension": ".py",
   "mimetype": "text/x-python",
   "name": "python",
   "nbconvert_exporter": "python",
   "pygments_lexer": "ipython3",
   "version": "3.10.1"
  },
  "orig_nbformat": 4,
  "vscode": {
   "interpreter": {
    "hash": "2992be79d3e0aec33be5181fec54a44a4df1a289abb84f75bd9ff6949ab975c1"
   }
  }
 },
 "nbformat": 4,
 "nbformat_minor": 2
}
