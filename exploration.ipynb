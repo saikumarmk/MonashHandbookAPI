{
 "cells": [
  {
   "cell_type": "markdown",
   "metadata": {},
   "source": [
    "## Monash Handbook and Prequisites Documentation Project\n",
    "\n",
    "\n"
   ]
  },
  {
   "cell_type": "markdown",
   "metadata": {},
   "source": [
    "### Determining prerequisites\n",
    "\n",
    "I've written a script to scrape prerequisites from `https://mscv.apps.monash.edu` which validates a course map. Since it gives us prerequisites if we're missing them, we can simply submit up to 125 of those requests in a go. That being said, \n",
    "we still need a way to determine corequisites and prohibitions:\n",
    "- As far as prohibitions are concerned, we can scrape from the handbook, then do a simple [A-Z]^3[0-9]^4 regex check on the prohibitions section. The API will return all the prohibited units.\n",
    "- Corequisites are more tricky, however we should be able to make simplifications to our process. For instance, we can regex check the coreq section and then not include them on second pass for units that have a corequisite.\n",
    "\n",
    "We now explore the data source. It takes 13.29 seconds on my PC to run this:"
   ]
  },
  {
   "cell_type": "code",
   "execution_count": 6,
   "metadata": {},
   "outputs": [
    {
     "name": "stdout",
     "output_type": "stream",
     "text": [
      "13.293525218963623\n"
     ]
    }
   ],
   "source": [
    "!python src/get_all_prereqs.py"
   ]
  },
  {
   "cell_type": "markdown",
   "metadata": {},
   "source": [
    "Yields a file named `unit_reqs_clean.json`. I've preprocessed and removed a fair bit of the data the server sends as it's meaningless, however we still need to inspect the data."
   ]
  },
  {
   "cell_type": "code",
   "execution_count": 7,
   "metadata": {},
   "outputs": [],
   "source": [
    "import json"
   ]
  },
  {
   "cell_type": "code",
   "execution_count": 8,
   "metadata": {},
   "outputs": [],
   "source": [
    "with open(\"unit_reqs_clean.json\", \"r\") as file:\n",
    "    unit_reqs = json.load(file)"
   ]
  },
  {
   "cell_type": "markdown",
   "metadata": {},
   "source": [
    "For any given unit, it can have a list of prerequisites, corequisites, prohibitions and any other requirements. There are 8 different messages that you may get for unit enrollment:"
   ]
  },
  {
   "cell_type": "code",
   "execution_count": 33,
   "metadata": {},
   "outputs": [
    {
     "name": "stdout",
     "output_type": "stream",
     "text": [
      "Prohibited unit\n",
      "Have not enrolled in a unit\n",
      "Have not completed enough units\n",
      "Have not passed enough units\n",
      "Not enough passed credit points\n",
      "Not enough enrolled credit points\n",
      "Missing corequisites\n",
      "Permission is required for this unit\n"
     ]
    }
   ],
   "source": [
    "unique_messages = set([item['title'] for sublist in unit_reqs.values() for item in sublist])\n",
    "for msg in unique_messages:\n",
    "    print(msg)"
   ]
  },
  {
   "cell_type": "markdown",
   "metadata": {},
   "source": [
    "So let's go through them:\n",
    "\n",
    "- Prohibited unit: You've enrolled/completed in a unit that prevents you from taking the current unit. For example, MTH1030 and ENG1005 both prohibit each other. A thing to note is that you will be given the names of all the prohibited units with that, e.g enrolling in ENG1005 and MTH1030 will also tell you MTH1035 is prohibited\n",
    "\n",
    "- Have not enrolled in a unit: This one is unusual, as it only appears for 12 units. It may say to enrol in a list of units, however it really means to have done it as a prerequisite. EAE2522 is one such example\n",
    "\n",
    "- Have not completed enough units: Again, this only appears for 3 units, all of which have the prefix APG. This seems to just be a completion requirement.\n",
    "\n",
    "- Have not passed enough units: This is the normal message if you lack the prerequisites for a unit. Appears in most places.\n",
    "\n",
    "- Not enough passed credit points: Some units simply require `x` credit points before you can enrol in them. Some mandate `y` credit points from faculty `z`. This appears less often but there are 360 occurences.\n",
    "\n",
    "- Not enough enrolled credit points: Only appears once, but seems to be similar to the above, EDF5019\n",
    "\n",
    "- Missing corequisites: Corequisites are a special sort of prerequisite that can be taken either before you do a unit, or concurrently with the unit. For instance, ENG1014 has a corequisite for ENG1005.\n",
    "\n",
    "- Permission is required for this unit: You need to contact someone in order to enrol in this unit. Fairly standard."
   ]
  },
  {
   "cell_type": "code",
   "execution_count": 10,
   "metadata": {},
   "outputs": [
    {
     "data": {
      "text/plain": [
       "[{'title': 'Not enough passed credit points',\n",
       "  'description': 'You must pass 90 more credit points before you can enrol into this unit.'},\n",
       " {'title': 'Have not passed enough units',\n",
       "  'description': 'Please enrol in 2 of these units: FIT1001 or FIT1005'},\n",
       " {'title': 'Have not passed enough units',\n",
       "  'description': 'Please enrol in 1 of these units: FIT1040'},\n",
       " {'title': 'Have not passed enough units',\n",
       "  'description': 'Please enrol in 1 of these units: FIT1008, FIT1035, FIT2034, FIT2071, FIT2076, FIT2081 or FIT2104'},\n",
       " {'title': 'Have not passed enough units',\n",
       "  'description': 'Please enrol in 1 of these units: FIT1004 or FIT2094'},\n",
       " {'title': 'Have not passed enough units',\n",
       "  'description': 'Please enrol in 2 of these units: FIT2001 or FIT2002'},\n",
       " {'title': 'Have not passed enough units',\n",
       "  'description': 'Please enrol in 1 of these units: FIT1003, FIT1049 or FIT2003'}]"
      ]
     },
     "execution_count": 10,
     "metadata": {},
     "output_type": "execute_result"
    }
   ],
   "source": [
    "unit_reqs[\"FIT3047\"]"
   ]
  },
  {
   "cell_type": "code",
   "execution_count": null,
   "metadata": {},
   "outputs": [],
   "source": []
  }
 ],
 "metadata": {
  "kernelspec": {
   "display_name": "Python 3.10.1 64-bit",
   "language": "python",
   "name": "python3"
  },
  "language_info": {
   "codemirror_mode": {
    "name": "ipython",
    "version": 3
   },
   "file_extension": ".py",
   "mimetype": "text/x-python",
   "name": "python",
   "nbconvert_exporter": "python",
   "pygments_lexer": "ipython3",
   "version": "3.10.1"
  },
  "orig_nbformat": 4,
  "vscode": {
   "interpreter": {
    "hash": "2992be79d3e0aec33be5181fec54a44a4df1a289abb84f75bd9ff6949ab975c1"
   }
  }
 },
 "nbformat": 4,
 "nbformat_minor": 2
}
